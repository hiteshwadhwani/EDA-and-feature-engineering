{
 "cells": [
  {
   "cell_type": "markdown",
   "id": "7b8beecc",
   "metadata": {},
   "source": [
    "# Unbalanced data"
   ]
  },
  {
   "cell_type": "raw",
   "id": "2fdb3083",
   "metadata": {},
   "source": [
    "unbalanced data is the data in which propotion of one class is much greater with respect to other class. This cause major problem in classification problem of machine learning becasue machine learning models try to make model with max accuracy. if data is unabalanced our model will be biased toward one class."
   ]
  },
  {
   "cell_type": "code",
   "execution_count": 3,
   "id": "98a88073",
   "metadata": {},
   "outputs": [],
   "source": [
    "import pandas as pd\n",
    "import seaborn as sns\n",
    "import numpy as np\n",
    "import matplotlib.pyplot as plt\n",
    "\n",
    "sns.set_style(\"darkgrid\")\n",
    "%matplotlib inline"
   ]
  },
  {
   "cell_type": "raw",
   "id": "e19d2304",
   "metadata": {},
   "source": [
    "https://www.kaggle.com/code/janiobachmann/credit-fraud-dealing-with-imbalanced-datasets\n",
    "https://www.analyticsvidhya.com/blog/2020/07/10-techniques-to-deal-with-class-imbalance-in-machine-learning/#h2_8"
   ]
  },
  {
   "cell_type": "code",
   "execution_count": null,
   "id": "16868474",
   "metadata": {},
   "outputs": [],
   "source": []
  }
 ],
 "metadata": {
  "kernelspec": {
   "display_name": "Python 3 (ipykernel)",
   "language": "python",
   "name": "python3"
  },
  "language_info": {
   "codemirror_mode": {
    "name": "ipython",
    "version": 3
   },
   "file_extension": ".py",
   "mimetype": "text/x-python",
   "name": "python",
   "nbconvert_exporter": "python",
   "pygments_lexer": "ipython3",
   "version": "3.9.12"
  }
 },
 "nbformat": 4,
 "nbformat_minor": 5
}
