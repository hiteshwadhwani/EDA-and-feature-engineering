{
 "cells": [
  {
   "cell_type": "markdown",
   "id": "f8721bdb",
   "metadata": {},
   "source": [
    "# Working with outliers"
   ]
  },
  {
   "cell_type": "raw",
   "id": "593f532a",
   "metadata": {},
   "source": [
    "methods to handle outliers - \n",
    "1) Trimming outliers from the dataset\n",
    "2) Quantile based flooring and capping\n",
    "3) Log Transformation\n",
    "4) Replacing Outliers with Median Values"
   ]
  },
  {
   "cell_type": "raw",
   "id": "1db899f9",
   "metadata": {},
   "source": [
    "we can detect outliers with the help of 3 methods-\n",
    "1) boxplot - draw box plot and identify the outlier\n",
    "2) z score - Any data point whose z score fall out of mean +- 3rd standard deviation will be outlier\n",
    "3) Inter Quantile Range(IQR) - data points that lie 1.5 times of IQR above Q3 and below Q1 are outliers\n",
    "4) skewness - skewness should be between -1 to 1 . if it is >> than 1 then it is right skeweed or if it is less than -1 then it is left skeweed"
   ]
  },
  {
   "cell_type": "code",
   "execution_count": 35,
   "id": "c6d615f6",
   "metadata": {},
   "outputs": [],
   "source": [
    "# Import all the required libraries\n",
    "\n",
    "import pandas as pd\n",
    "import numpy as np\n",
    "import matplotlib.pyplot as plt\n",
    "import seaborn as sns\n",
    "from scipy import stats\n",
    "sns.set()"
   ]
  },
  {
   "cell_type": "code",
   "execution_count": 58,
   "id": "a9fee2f9",
   "metadata": {},
   "outputs": [
    {
     "data": {
      "text/html": [
       "<div>\n",
       "<style scoped>\n",
       "    .dataframe tbody tr th:only-of-type {\n",
       "        vertical-align: middle;\n",
       "    }\n",
       "\n",
       "    .dataframe tbody tr th {\n",
       "        vertical-align: top;\n",
       "    }\n",
       "\n",
       "    .dataframe thead th {\n",
       "        text-align: right;\n",
       "    }\n",
       "</style>\n",
       "<table border=\"1\" class=\"dataframe\">\n",
       "  <thead>\n",
       "    <tr style=\"text-align: right;\">\n",
       "      <th></th>\n",
       "      <th>case_id</th>\n",
       "      <th>continent</th>\n",
       "      <th>education_of_employee</th>\n",
       "      <th>has_job_experience</th>\n",
       "      <th>requires_job_training</th>\n",
       "      <th>no_of_employees</th>\n",
       "      <th>yr_of_estab</th>\n",
       "      <th>region_of_employment</th>\n",
       "      <th>prevailing_wage</th>\n",
       "      <th>unit_of_wage</th>\n",
       "      <th>full_time_position</th>\n",
       "      <th>case_status</th>\n",
       "    </tr>\n",
       "  </thead>\n",
       "  <tbody>\n",
       "    <tr>\n",
       "      <th>0</th>\n",
       "      <td>EZYV01</td>\n",
       "      <td>Asia</td>\n",
       "      <td>High School</td>\n",
       "      <td>N</td>\n",
       "      <td>N</td>\n",
       "      <td>14513</td>\n",
       "      <td>2007</td>\n",
       "      <td>West</td>\n",
       "      <td>592.2029</td>\n",
       "      <td>Hour</td>\n",
       "      <td>Y</td>\n",
       "      <td>Denied</td>\n",
       "    </tr>\n",
       "    <tr>\n",
       "      <th>1</th>\n",
       "      <td>EZYV02</td>\n",
       "      <td>Asia</td>\n",
       "      <td>Master's</td>\n",
       "      <td>Y</td>\n",
       "      <td>N</td>\n",
       "      <td>2412</td>\n",
       "      <td>2002</td>\n",
       "      <td>Northeast</td>\n",
       "      <td>83425.6500</td>\n",
       "      <td>Year</td>\n",
       "      <td>Y</td>\n",
       "      <td>Certified</td>\n",
       "    </tr>\n",
       "    <tr>\n",
       "      <th>2</th>\n",
       "      <td>EZYV03</td>\n",
       "      <td>Asia</td>\n",
       "      <td>Bachelor's</td>\n",
       "      <td>N</td>\n",
       "      <td>Y</td>\n",
       "      <td>44444</td>\n",
       "      <td>2008</td>\n",
       "      <td>West</td>\n",
       "      <td>122996.8600</td>\n",
       "      <td>Year</td>\n",
       "      <td>Y</td>\n",
       "      <td>Denied</td>\n",
       "    </tr>\n",
       "    <tr>\n",
       "      <th>3</th>\n",
       "      <td>EZYV04</td>\n",
       "      <td>Asia</td>\n",
       "      <td>Bachelor's</td>\n",
       "      <td>N</td>\n",
       "      <td>N</td>\n",
       "      <td>98</td>\n",
       "      <td>1897</td>\n",
       "      <td>West</td>\n",
       "      <td>83434.0300</td>\n",
       "      <td>Year</td>\n",
       "      <td>Y</td>\n",
       "      <td>Denied</td>\n",
       "    </tr>\n",
       "    <tr>\n",
       "      <th>4</th>\n",
       "      <td>EZYV05</td>\n",
       "      <td>Africa</td>\n",
       "      <td>Master's</td>\n",
       "      <td>Y</td>\n",
       "      <td>N</td>\n",
       "      <td>1082</td>\n",
       "      <td>2005</td>\n",
       "      <td>South</td>\n",
       "      <td>149907.3900</td>\n",
       "      <td>Year</td>\n",
       "      <td>Y</td>\n",
       "      <td>Certified</td>\n",
       "    </tr>\n",
       "  </tbody>\n",
       "</table>\n",
       "</div>"
      ],
      "text/plain": [
       "  case_id continent education_of_employee has_job_experience  \\\n",
       "0  EZYV01      Asia           High School                  N   \n",
       "1  EZYV02      Asia              Master's                  Y   \n",
       "2  EZYV03      Asia            Bachelor's                  N   \n",
       "3  EZYV04      Asia            Bachelor's                  N   \n",
       "4  EZYV05    Africa              Master's                  Y   \n",
       "\n",
       "  requires_job_training  no_of_employees  yr_of_estab region_of_employment  \\\n",
       "0                     N            14513         2007                 West   \n",
       "1                     N             2412         2002            Northeast   \n",
       "2                     Y            44444         2008                 West   \n",
       "3                     N               98         1897                 West   \n",
       "4                     N             1082         2005                South   \n",
       "\n",
       "   prevailing_wage unit_of_wage full_time_position case_status  \n",
       "0         592.2029         Hour                  Y      Denied  \n",
       "1       83425.6500         Year                  Y   Certified  \n",
       "2      122996.8600         Year                  Y      Denied  \n",
       "3       83434.0300         Year                  Y      Denied  \n",
       "4      149907.3900         Year                  Y   Certified  "
      ]
     },
     "execution_count": 58,
     "metadata": {},
     "output_type": "execute_result"
    }
   ],
   "source": [
    "# importing the dataset\n",
    "\n",
    "visa = pd.read_csv(\"Visadataset.csv\")\n",
    "visa.head()"
   ]
  },
  {
   "cell_type": "code",
   "execution_count": 4,
   "id": "ae00c54d",
   "metadata": {},
   "outputs": [],
   "source": [
    "# splitting dataset between categorical data and numerical data\n",
    "\n",
    "num_cols = [i for i in visa.columns if visa[i].dtype != 'O']\n",
    "cat_cols = [i for i in visa.columns if visa[i].dtype == 'O']\n",
    "visa_cat = visa[cat_cols]\n",
    "visa_num = visa[num_cols]"
   ]
  },
  {
   "cell_type": "markdown",
   "id": "f99e4dc6",
   "metadata": {},
   "source": [
    "## Detecting outlier using boxplot"
   ]
  },
  {
   "cell_type": "code",
   "execution_count": 5,
   "id": "1ca50dad",
   "metadata": {},
   "outputs": [
    {
     "data": {
      "image/png": "[encoded data removed]",
      "text/plain": [
       "<Figure size 360x1080 with 3 Axes>"
      ]
     },
     "metadata": {},
     "output_type": "display_data"
    }
   ],
   "source": [
    "rows = 3\n",
    "cols = 1\n",
    "fig = plt.figure( figsize=(cols*5, rows*5))\n",
    "\n",
    "for i, col in enumerate(visa_num.columns):\n",
    "    ax=fig.add_subplot(rows,cols,i+1)\n",
    "    sns.boxplot(x = col, data=visa)\n",
    "fig.tight_layout()  \n",
    "plt.show()"
   ]
  },
  {
   "cell_type": "markdown",
   "id": "84f668d9",
   "metadata": {},
   "source": [
    "## Detecting outliers using the Z-scores"
   ]
  },
  {
   "cell_type": "code",
   "execution_count": 8,
   "id": "fbbd0060",
   "metadata": {},
   "outputs": [],
   "source": [
    "# Function which will return the outliers from data\n",
    "\n",
    "def detect_outliers_zscore(data):\n",
    "    outliers = []\n",
    "    thres = 3\n",
    "    mean = np.mean(data)\n",
    "    std = np.std(data)\n",
    "    # print(mean, std)\n",
    "    for i in data:\n",
    "        z_score = (i-mean)/std\n",
    "        if (np.abs(z_score) > thres):\n",
    "            outliers.append(i)\n",
    "    return outliers"
   ]
  },
  {
   "cell_type": "code",
   "execution_count": 24,
   "id": "021f5158",
   "metadata": {},
   "outputs": [
    {
     "name": "stdout",
     "output_type": "stream",
     "text": [
      "Outliers from Z-scores method:  [123876, 76638, 107535, 113282, 128431, 155999, 82716, 81379, 94411, 112102, 81849, 81762, 358352, 86050, 88484, 91879, 93759, 111654, 298041, 93018, 372064, 90533, 85646, 143036, 394921, 114273, 92872, 85457, 127586, 283641].....\n",
      "number of outliers 429\n"
     ]
    }
   ],
   "source": [
    "# outliers in no_of_employees\n",
    "\n",
    "no_of_employees_outliers = detect_outliers_zscore(visa.no_of_employees)\n",
    "print(\"Outliers from Z-scores method: \", str(no_of_employees_outliers[0:30]) + \".....\")\n",
    "print(\"number of outliers\", len(no_of_employees_outliers))"
   ]
  },
  {
   "cell_type": "code",
   "execution_count": 22,
   "id": "1a628261",
   "metadata": {},
   "outputs": [
    {
     "name": "stdout",
     "output_type": "stream",
     "text": [
      "Outliers from Z-scores method:  [1847, 1838, 1818, 1839, 1801, 1843, 1850, 1847, 1838, 1851, 1849, 1848, 1852, 1847, 1851, 1852, 1834, 1801, 1800, 1846, 1838, 1838, 1817, 1841, 1821, 1846, 1817, 1851, 1834, 1852].....\n",
      "number of outliers 695\n"
     ]
    }
   ],
   "source": [
    "# outliers in yr_of_estab\n",
    "\n",
    "yr_of_estab_outliers = detect_outliers_zscore(visa.yr_of_estab)\n",
    "print(\"Outliers from Z-scores method: \", str(yr_of_estab_outliers[:30]) + \".....\")\n",
    "print(\"number of outliers\", len(yr_of_estab_outliers))"
   ]
  },
  {
   "cell_type": "code",
   "execution_count": 23,
   "id": "307aef0f",
   "metadata": {},
   "outputs": [
    {
     "name": "stdout",
     "output_type": "stream",
     "text": [
      "Outliers from Z-scores method:  [247393.01, 269321.68, 238691.32, 235339.91, 256261.78, 262189.0, 250510.67, 256205.38, 233641.72, 274019.43, 246705.0, 240266.34, 254604.08, 288318.91, 244457.48, 242146.48, 247545.23, 234139.17, 239773.63, 237539.32, 266440.49, 277281.01, 275627.59, 249291.12, 292106.59, 234012.11, 247009.24, 267726.09, 280661.13, 277984.52]....\n",
      "number of outliers 294\n"
     ]
    }
   ],
   "source": [
    "# outliers in prevailing_wage\n",
    "\n",
    "prevailing_wage_outliers = detect_outliers_zscore(visa.prevailing_wage)\n",
    "print(\"Outliers from Z-scores method: \", str(prevailing_wage_outliers[:30]) + \"....\")\n",
    "print(\"number of outliers\", len(prevailing_wage_outliers))"
   ]
  },
  {
   "cell_type": "markdown",
   "id": "f227caa9",
   "metadata": {},
   "source": [
    "## Detecting outliers using the Inter Quantile Range(IQR)"
   ]
  },
  {
   "cell_type": "code",
   "execution_count": 13,
   "id": "eb8821ed",
   "metadata": {},
   "outputs": [],
   "source": [
    "# function for finding outliers using IQR\n",
    "\n",
    "def detect_outliers_iqr(data):\n",
    "    outliers = []\n",
    "    data = sorted(data)\n",
    "    q1 = np.percentile(data, 25)\n",
    "    q3 = np.percentile(data, 75)\n",
    "    IQR = q3-q1\n",
    "    lwr_bound = q1-(1.5*IQR)\n",
    "    upr_bound = q3+(1.5*IQR)\n",
    "    for i in data: \n",
    "        if (i<lwr_bound or i>upr_bound):\n",
    "            outliers.append(i)\n",
    "    return outliers"
   ]
  },
  {
   "cell_type": "code",
   "execution_count": 25,
   "id": "edb7739b",
   "metadata": {},
   "outputs": [
    {
     "name": "stdout",
     "output_type": "stream",
     "text": [
      "Outliers from IQR method:  [7242, 7261, 7262, 7285, 7290, 7320, 7359, 7400, 7407, 7453, 7457, 7462, 7477, 7528, 7553, 7592, 7595, 7607, 7609, 7640, 7659, 7668, 7687, 7739, 7775, 7778, 7795, 7828, 7833, 7880]....\n",
      "number of outliers 1556\n"
     ]
    }
   ],
   "source": [
    "# outliers in no_of_employees using IQR\n",
    "\n",
    "no_of_employees_outliers_iqr = detect_outliers_iqr(visa.no_of_employees)\n",
    "print(\"Outliers from IQR method: \", str(no_of_employees_outliers_iqr[:30]) + \"....\")\n",
    "print(\"number of outliers\", len(no_of_employees_outliers_iqr))"
   ]
  },
  {
   "cell_type": "code",
   "execution_count": 26,
   "id": "c01ac116",
   "metadata": {},
   "outputs": [
    {
     "name": "stdout",
     "output_type": "stream",
     "text": [
      "Outliers from IQR method:  [1800, 1800, 1800, 1800, 1800, 1800, 1800, 1800, 1800, 1800, 1800, 1800, 1800, 1800, 1800, 1800, 1801, 1801, 1801, 1801, 1801, 1801, 1801, 1801, 1801, 1801, 1801, 1801, 1804, 1804].....\n",
      "number of outliers 3260\n"
     ]
    }
   ],
   "source": [
    "# outliers in yr_of_estab using IQR\n",
    "\n",
    "yr_of_estab_outliers_iqr = detect_outliers_iqr(visa.yr_of_estab)\n",
    "print(\"Outliers from IQR method: \", str(yr_of_estab_outliers_iqr[:30]) + \".....\")\n",
    "print(\"number of outliers\", len(yr_of_estab_outliers_iqr))"
   ]
  },
  {
   "cell_type": "code",
   "execution_count": 27,
   "id": "7369b224",
   "metadata": {},
   "outputs": [
    {
     "name": "stdout",
     "output_type": "stream",
     "text": [
      "Outliers from IQR method:  [218318.76, 218488.72, 218554.78, 218823.72, 218826.0, 218982.83, 219056.42, 219090.04, 219128.94, 219284.2, 219321.41, 219351.89, 219465.03, 219529.62, 219968.65, 220081.73, 220280.21, 220448.17, 220553.95, 220664.53, 220736.86, 220817.57, 221033.57, 221058.13, 221354.25, 221498.71, 221524.92, 221588.52, 221595.07, 221669.11].....\n",
      "number of outliers 427\n"
     ]
    }
   ],
   "source": [
    "# outliers in prevailing_wage using IQR\n",
    "\n",
    "prevailing_wage_outliers_iqr = detect_outliers_iqr(visa.prevailing_wage)\n",
    "print(\"Outliers from IQR method: \", str(prevailing_wage_outliers_iqr[:30]) + \".....\")\n",
    "print(\"number of outliers\", len(prevailing_wage_outliers_iqr))"
   ]
  },
  {
   "cell_type": "markdown",
   "id": "4d346b24",
   "metadata": {},
   "source": [
    "## Trimming/removing the outlier"
   ]
  },
  {
   "cell_type": "code",
   "execution_count": 38,
   "id": "cad2c69c",
   "metadata": {},
   "outputs": [],
   "source": [
    "# Now we will remove outliers using IQR\n",
    "\n",
    "def outlier_index_iqr(data):\n",
    "    data = sorted(data)\n",
    "    q1 = np.percentile(data, 25)\n",
    "    q3 = np.percentile(data, 75)\n",
    "    IQR = q3-q1\n",
    "    lwr_bound = q1-(1.5*IQR)\n",
    "    upr_bound = q3+(1.5*IQR)\n",
    "    index = np.where((data > upr_bound) & (data < lwr_bound))\n",
    "    return index"
   ]
  },
  {
   "cell_type": "code",
   "execution_count": 39,
   "id": "cec2f2a4",
   "metadata": {},
   "outputs": [],
   "source": [
    "def outlier_index_zscore(data):\n",
    "    z = np.abs(stats.zscore(data))\n",
    "    return np.where(z > 3)"
   ]
  },
  {
   "cell_type": "code",
   "execution_count": 73,
   "id": "d5eb0e96",
   "metadata": {},
   "outputs": [],
   "source": [
    "# making array of all the outlies indexes\n",
    "\n",
    "indexes = np.concatenate([outlier_index_zscore(visa.no_of_employees)[0], outlier_index_zscore(visa.prevailing_wage)[0], outlier_index_zscore(visa.yr_of_estab)[0]])"
   ]
  },
  {
   "cell_type": "code",
   "execution_count": 80,
   "id": "0e98aef9",
   "metadata": {},
   "outputs": [
    {
     "name": "stderr",
     "output_type": "stream",
     "text": [
      "C:\\Users\\hitesh wadhwani\\AppData\\Local\\Temp\\ipykernel_1092\\3279542722.py:1: FutureWarning: Passing a set as an indexer is deprecated and will raise in a future version. Use a list instead.\n",
      "  trimmed_visa = visa.loc[set(visa.index) - set(indexes)]\n"
     ]
    }
   ],
   "source": [
    "# making dataframe which do not conatins the outlies indexes\n",
    "\n",
    "trimmed_visa = visa.loc[set(visa.index) - set(indexes)]"
   ]
  },
  {
   "cell_type": "code",
   "execution_count": 81,
   "id": "b12b1189",
   "metadata": {},
   "outputs": [
    {
     "data": {
      "text/html": [
       "<div>\n",
       "<style scoped>\n",
       "    .dataframe tbody tr th:only-of-type {\n",
       "        vertical-align: middle;\n",
       "    }\n",
       "\n",
       "    .dataframe tbody tr th {\n",
       "        vertical-align: top;\n",
       "    }\n",
       "\n",
       "    .dataframe thead th {\n",
       "        text-align: right;\n",
       "    }\n",
       "</style>\n",
       "<table border=\"1\" class=\"dataframe\">\n",
       "  <thead>\n",
       "    <tr style=\"text-align: right;\">\n",
       "      <th></th>\n",
       "      <th>case_id</th>\n",
       "      <th>continent</th>\n",
       "      <th>education_of_employee</th>\n",
       "      <th>has_job_experience</th>\n",
       "      <th>requires_job_training</th>\n",
       "      <th>no_of_employees</th>\n",
       "      <th>yr_of_estab</th>\n",
       "      <th>region_of_employment</th>\n",
       "      <th>prevailing_wage</th>\n",
       "      <th>unit_of_wage</th>\n",
       "      <th>full_time_position</th>\n",
       "      <th>case_status</th>\n",
       "    </tr>\n",
       "  </thead>\n",
       "  <tbody>\n",
       "    <tr>\n",
       "      <th>0</th>\n",
       "      <td>EZYV01</td>\n",
       "      <td>Asia</td>\n",
       "      <td>High School</td>\n",
       "      <td>N</td>\n",
       "      <td>N</td>\n",
       "      <td>14513</td>\n",
       "      <td>2007</td>\n",
       "      <td>West</td>\n",
       "      <td>592.2029</td>\n",
       "      <td>Hour</td>\n",
       "      <td>Y</td>\n",
       "      <td>Denied</td>\n",
       "    </tr>\n",
       "    <tr>\n",
       "      <th>1</th>\n",
       "      <td>EZYV02</td>\n",
       "      <td>Asia</td>\n",
       "      <td>Master's</td>\n",
       "      <td>Y</td>\n",
       "      <td>N</td>\n",
       "      <td>2412</td>\n",
       "      <td>2002</td>\n",
       "      <td>Northeast</td>\n",
       "      <td>83425.6500</td>\n",
       "      <td>Year</td>\n",
       "      <td>Y</td>\n",
       "      <td>Certified</td>\n",
       "    </tr>\n",
       "    <tr>\n",
       "      <th>2</th>\n",
       "      <td>EZYV03</td>\n",
       "      <td>Asia</td>\n",
       "      <td>Bachelor's</td>\n",
       "      <td>N</td>\n",
       "      <td>Y</td>\n",
       "      <td>44444</td>\n",
       "      <td>2008</td>\n",
       "      <td>West</td>\n",
       "      <td>122996.8600</td>\n",
       "      <td>Year</td>\n",
       "      <td>Y</td>\n",
       "      <td>Denied</td>\n",
       "    </tr>\n",
       "    <tr>\n",
       "      <th>3</th>\n",
       "      <td>EZYV04</td>\n",
       "      <td>Asia</td>\n",
       "      <td>Bachelor's</td>\n",
       "      <td>N</td>\n",
       "      <td>N</td>\n",
       "      <td>98</td>\n",
       "      <td>1897</td>\n",
       "      <td>West</td>\n",
       "      <td>83434.0300</td>\n",
       "      <td>Year</td>\n",
       "      <td>Y</td>\n",
       "      <td>Denied</td>\n",
       "    </tr>\n",
       "    <tr>\n",
       "      <th>4</th>\n",
       "      <td>EZYV05</td>\n",
       "      <td>Africa</td>\n",
       "      <td>Master's</td>\n",
       "      <td>Y</td>\n",
       "      <td>N</td>\n",
       "      <td>1082</td>\n",
       "      <td>2005</td>\n",
       "      <td>South</td>\n",
       "      <td>149907.3900</td>\n",
       "      <td>Year</td>\n",
       "      <td>Y</td>\n",
       "      <td>Certified</td>\n",
       "    </tr>\n",
       "  </tbody>\n",
       "</table>\n",
       "</div>"
      ],
      "text/plain": [
       "  case_id continent education_of_employee has_job_experience  \\\n",
       "0  EZYV01      Asia           High School                  N   \n",
       "1  EZYV02      Asia              Master's                  Y   \n",
       "2  EZYV03      Asia            Bachelor's                  N   \n",
       "3  EZYV04      Asia            Bachelor's                  N   \n",
       "4  EZYV05    Africa              Master's                  Y   \n",
       "\n",
       "  requires_job_training  no_of_employees  yr_of_estab region_of_employment  \\\n",
       "0                     N            14513         2007                 West   \n",
       "1                     N             2412         2002            Northeast   \n",
       "2                     Y            44444         2008                 West   \n",
       "3                     N               98         1897                 West   \n",
       "4                     N             1082         2005                South   \n",
       "\n",
       "   prevailing_wage unit_of_wage full_time_position case_status  \n",
       "0         592.2029         Hour                  Y      Denied  \n",
       "1       83425.6500         Year                  Y   Certified  \n",
       "2      122996.8600         Year                  Y      Denied  \n",
       "3       83434.0300         Year                  Y      Denied  \n",
       "4      149907.3900         Year                  Y   Certified  "
      ]
     },
     "execution_count": 81,
     "metadata": {},
     "output_type": "execute_result"
    }
   ],
   "source": [
    "trimmed_visa.head()"
   ]
  },
  {
   "cell_type": "markdown",
   "id": "805fbd26",
   "metadata": {},
   "source": [
    "## Quantile based flooring and capping"
   ]
  },
  {
   "cell_type": "raw",
   "id": "bdb8e82b",
   "metadata": {},
   "source": [
    "In this mehod data points which are lesser than 10 percentile will be replaced with 10 percentile value and greater than 90 percentile will be replaced with 90 percentile value"
   ]
  },
  {
   "cell_type": "code",
   "execution_count": 87,
   "id": "b57c80d8",
   "metadata": {},
   "outputs": [],
   "source": [
    "# flooring and capping on no_of_employees column\n",
    "\n",
    "tenth_percentile = np.percentile(visa.no_of_employees, 10) # 10 percentile\n",
    "ninetieth_percentile = np.percentile(visa.no_of_employees, 90) # 90 percentile\n",
    "visa.no_of_employees = np.where(visa.no_of_employees < tenth_percentile, tenth_percentile, visa.no_of_employees)\n",
    "visa.no_of_employees = np.where(visa.no_of_employees > ninetieth_percentile, ninetieth_percentile, visa.no_of_employees)"
   ]
  },
  {
   "cell_type": "code",
   "execution_count": 88,
   "id": "cdf5cb54",
   "metadata": {},
   "outputs": [
    {
     "data": {
      "text/plain": [
       "0.42522202938114023"
      ]
     },
     "execution_count": 88,
     "metadata": {},
     "output_type": "execute_result"
    }
   ],
   "source": [
    "# skewness is removed it means extreme outlier are changed\n",
    "\n",
    "visa.no_of_employees.skew()"
   ]
  },
  {
   "cell_type": "code",
   "execution_count": 101,
   "id": "ff33ea10",
   "metadata": {},
   "outputs": [
    {
     "data": {
      "text/plain": [
       "<AxesSubplot:>"
      ]
     },
     "execution_count": 101,
     "metadata": {},
     "output_type": "execute_result"
    },
    {
     "data": {
      "image/png": "[encoded data removed]",
      "text/plain": [
       "<Figure size 432x288 with 1 Axes>"
      ]
     },
     "metadata": {},
     "output_type": "display_data"
    }
   ],
   "source": [
    "visa.no_of_employees.plot(kind='box')"
   ]
  },
  {
   "cell_type": "code",
   "execution_count": 98,
   "id": "c8c24303",
   "metadata": {},
   "outputs": [],
   "source": [
    "# flooring and capping on yr_of_estab column\n",
    "\n",
    "tenth_percentile = np.percentile(visa.yr_of_estab, 10) # 10 percentile\n",
    "ninetieth_percentile = np.percentile(visa.yr_of_estab, 90) # 90 percentile\n",
    "visa.yr_of_estab = np.where(visa.yr_of_estab < tenth_percentile, tenth_percentile, visa.yr_of_estab)\n",
    "visa.yr_of_estab = np.where(visa.yr_of_estab > ninetieth_percentile, ninetieth_percentile, visa.yr_of_estab)"
   ]
  },
  {
   "cell_type": "code",
   "execution_count": 99,
   "id": "103655db",
   "metadata": {},
   "outputs": [
    {
     "data": {
      "text/plain": [
       "-1.4136367381976644"
      ]
     },
     "execution_count": 99,
     "metadata": {},
     "output_type": "execute_result"
    }
   ],
   "source": [
    "visa.yr_of_estab.skew()"
   ]
  },
  {
   "cell_type": "code",
   "execution_count": 100,
   "id": "2ea1de7c",
   "metadata": {},
   "outputs": [
    {
     "data": {
      "text/plain": [
       "<AxesSubplot:>"
      ]
     },
     "execution_count": 100,
     "metadata": {},
     "output_type": "execute_result"
    },
    {
     "data": {
      "image/png": "[encoded data removed]",
      "text/plain": [
       "<Figure size 432x288 with 1 Axes>"
      ]
     },
     "metadata": {},
     "output_type": "display_data"
    }
   ],
   "source": [
    "visa.yr_of_estab.plot(kind='box') #still some outliers are left which have to be handled"
   ]
  },
  {
   "cell_type": "code",
   "execution_count": 96,
   "id": "b42d35ac",
   "metadata": {},
   "outputs": [
    {
     "data": {
      "text/plain": [
       "0.02935738586977424"
      ]
     },
     "execution_count": 96,
     "metadata": {},
     "output_type": "execute_result"
    }
   ],
   "source": [
    "visa.prevailing_wage.skew()"
   ]
  },
  {
   "cell_type": "code",
   "execution_count": 94,
   "id": "b949c581",
   "metadata": {},
   "outputs": [],
   "source": [
    "# flooring and capping on prevailing_wage column\n",
    "\n",
    "\n",
    "tenth_percentile = np.percentile(visa.prevailing_wage, 10) # 10 percentile\n",
    "ninetieth_percentile = np.percentile(visa.prevailing_wage, 90) # 90 percentile\n",
    "visa.prevailing_wage = np.where(visa.prevailing_wage < tenth_percentile, tenth_percentile, visa.prevailing_wage)\n",
    "visa.prevailing_wage = np.where(visa.prevailing_wage > ninetieth_percentile, ninetieth_percentile, visa.prevailing_wage)"
   ]
  },
  {
   "cell_type": "code",
   "execution_count": 95,
   "id": "88046bb7",
   "metadata": {},
   "outputs": [
    {
     "data": {
      "text/plain": [
       "<AxesSubplot:>"
      ]
     },
     "execution_count": 95,
     "metadata": {},
     "output_type": "execute_result"
    },
    {
     "data": {
      "image/png": "[encoded data removed]",
      "text/plain": [
       "<Figure size 432x288 with 1 Axes>"
      ]
     },
     "metadata": {},
     "output_type": "display_data"
    }
   ],
   "source": [
    "visa.prevailing_wage.plot(kind='box')"
   ]
  },
  {
   "cell_type": "markdown",
   "id": "47a11eff",
   "metadata": {},
   "source": [
    "## Log Transformation"
   ]
  },
  {
   "cell_type": "raw",
   "id": "37592450",
   "metadata": {},
   "source": [
    "Transformation of the skewed variables may also help correct the distribution of the variables. These could be logarithmic, square root, or square transformations. The most common is the logarithmic transformation"
   ]
  },
  {
   "cell_type": "code",
   "execution_count": 102,
   "id": "0b5e739b",
   "metadata": {},
   "outputs": [
    {
     "data": {
      "text/html": [
       "<div>\n",
       "<style scoped>\n",
       "    .dataframe tbody tr th:only-of-type {\n",
       "        vertical-align: middle;\n",
       "    }\n",
       "\n",
       "    .dataframe tbody tr th {\n",
       "        vertical-align: top;\n",
       "    }\n",
       "\n",
       "    .dataframe thead th {\n",
       "        text-align: right;\n",
       "    }\n",
       "</style>\n",
       "<table border=\"1\" class=\"dataframe\">\n",
       "  <thead>\n",
       "    <tr style=\"text-align: right;\">\n",
       "      <th></th>\n",
       "      <th>case_id</th>\n",
       "      <th>continent</th>\n",
       "      <th>education_of_employee</th>\n",
       "      <th>has_job_experience</th>\n",
       "      <th>requires_job_training</th>\n",
       "      <th>no_of_employees</th>\n",
       "      <th>yr_of_estab</th>\n",
       "      <th>region_of_employment</th>\n",
       "      <th>prevailing_wage</th>\n",
       "      <th>unit_of_wage</th>\n",
       "      <th>full_time_position</th>\n",
       "      <th>case_status</th>\n",
       "    </tr>\n",
       "  </thead>\n",
       "  <tbody>\n",
       "    <tr>\n",
       "      <th>0</th>\n",
       "      <td>EZYV01</td>\n",
       "      <td>Asia</td>\n",
       "      <td>High School</td>\n",
       "      <td>N</td>\n",
       "      <td>N</td>\n",
       "      <td>14513</td>\n",
       "      <td>2007</td>\n",
       "      <td>West</td>\n",
       "      <td>592.2029</td>\n",
       "      <td>Hour</td>\n",
       "      <td>Y</td>\n",
       "      <td>Denied</td>\n",
       "    </tr>\n",
       "    <tr>\n",
       "      <th>1</th>\n",
       "      <td>EZYV02</td>\n",
       "      <td>Asia</td>\n",
       "      <td>Master's</td>\n",
       "      <td>Y</td>\n",
       "      <td>N</td>\n",
       "      <td>2412</td>\n",
       "      <td>2002</td>\n",
       "      <td>Northeast</td>\n",
       "      <td>83425.6500</td>\n",
       "      <td>Year</td>\n",
       "      <td>Y</td>\n",
       "      <td>Certified</td>\n",
       "    </tr>\n",
       "    <tr>\n",
       "      <th>2</th>\n",
       "      <td>EZYV03</td>\n",
       "      <td>Asia</td>\n",
       "      <td>Bachelor's</td>\n",
       "      <td>N</td>\n",
       "      <td>Y</td>\n",
       "      <td>44444</td>\n",
       "      <td>2008</td>\n",
       "      <td>West</td>\n",
       "      <td>122996.8600</td>\n",
       "      <td>Year</td>\n",
       "      <td>Y</td>\n",
       "      <td>Denied</td>\n",
       "    </tr>\n",
       "    <tr>\n",
       "      <th>3</th>\n",
       "      <td>EZYV04</td>\n",
       "      <td>Asia</td>\n",
       "      <td>Bachelor's</td>\n",
       "      <td>N</td>\n",
       "      <td>N</td>\n",
       "      <td>98</td>\n",
       "      <td>1897</td>\n",
       "      <td>West</td>\n",
       "      <td>83434.0300</td>\n",
       "      <td>Year</td>\n",
       "      <td>Y</td>\n",
       "      <td>Denied</td>\n",
       "    </tr>\n",
       "    <tr>\n",
       "      <th>4</th>\n",
       "      <td>EZYV05</td>\n",
       "      <td>Africa</td>\n",
       "      <td>Master's</td>\n",
       "      <td>Y</td>\n",
       "      <td>N</td>\n",
       "      <td>1082</td>\n",
       "      <td>2005</td>\n",
       "      <td>South</td>\n",
       "      <td>149907.3900</td>\n",
       "      <td>Year</td>\n",
       "      <td>Y</td>\n",
       "      <td>Certified</td>\n",
       "    </tr>\n",
       "  </tbody>\n",
       "</table>\n",
       "</div>"
      ],
      "text/plain": [
       "  case_id continent education_of_employee has_job_experience  \\\n",
       "0  EZYV01      Asia           High School                  N   \n",
       "1  EZYV02      Asia              Master's                  Y   \n",
       "2  EZYV03      Asia            Bachelor's                  N   \n",
       "3  EZYV04      Asia            Bachelor's                  N   \n",
       "4  EZYV05    Africa              Master's                  Y   \n",
       "\n",
       "  requires_job_training  no_of_employees  yr_of_estab region_of_employment  \\\n",
       "0                     N            14513         2007                 West   \n",
       "1                     N             2412         2002            Northeast   \n",
       "2                     Y            44444         2008                 West   \n",
       "3                     N               98         1897                 West   \n",
       "4                     N             1082         2005                South   \n",
       "\n",
       "   prevailing_wage unit_of_wage full_time_position case_status  \n",
       "0         592.2029         Hour                  Y      Denied  \n",
       "1       83425.6500         Year                  Y   Certified  \n",
       "2      122996.8600         Year                  Y      Denied  \n",
       "3       83434.0300         Year                  Y      Denied  \n",
       "4      149907.3900         Year                  Y   Certified  "
      ]
     },
     "execution_count": 102,
     "metadata": {},
     "output_type": "execute_result"
    }
   ],
   "source": [
    "visa = pd.read_csv(\"Visadataset.csv\")\n",
    "visa.head()"
   ]
  },
  {
   "cell_type": "code",
   "execution_count": 103,
   "id": "6bc8e033",
   "metadata": {},
   "outputs": [
    {
     "data": {
      "text/plain": [
       "12.265260077708275"
      ]
     },
     "execution_count": 103,
     "metadata": {},
     "output_type": "execute_result"
    }
   ],
   "source": [
    "visa.no_of_employees.skew()"
   ]
  },
  {
   "cell_type": "code",
   "execution_count": 104,
   "id": "13a3f9e4",
   "metadata": {},
   "outputs": [],
   "source": [
    "# appling log function on no_of employees column\n",
    "\n",
    "visa.no_of_employees = visa.no_of_employees.apply(lambda a: np.log(a) if a > 0 else 0)"
   ]
  },
  {
   "cell_type": "code",
   "execution_count": 105,
   "id": "2f1bc50a",
   "metadata": {},
   "outputs": [
    {
     "data": {
      "text/plain": [
       "-0.10596945432765449"
      ]
     },
     "execution_count": 105,
     "metadata": {},
     "output_type": "execute_result"
    }
   ],
   "source": [
    "visa.no_of_employees.skew()"
   ]
  },
  {
   "cell_type": "code",
   "execution_count": 106,
   "id": "ab1bba79",
   "metadata": {},
   "outputs": [],
   "source": [
    "visa.yr_of_estab = visa.yr_of_estab.apply(lambda a: np.log(a) if a > 0 else 0)\n",
    "visa.prevailing_wage = visa.prevailing_wage.apply(lambda a: np.log(a) if a > 0 else 0)"
   ]
  },
  {
   "cell_type": "markdown",
   "id": "971af36a",
   "metadata": {},
   "source": [
    "## Replacing Outliers with Median Values\n"
   ]
  },
  {
   "cell_type": "raw",
   "id": "025d7e82",
   "metadata": {},
   "source": [
    "As the mean value is highly influenced by the outliers, it is advised to replace the outliers with the median value."
   ]
  },
  {
   "cell_type": "code",
   "execution_count": 108,
   "id": "a683dd8d",
   "metadata": {},
   "outputs": [
    {
     "data": {
      "text/html": [
       "<div>\n",
       "<style scoped>\n",
       "    .dataframe tbody tr th:only-of-type {\n",
       "        vertical-align: middle;\n",
       "    }\n",
       "\n",
       "    .dataframe tbody tr th {\n",
       "        vertical-align: top;\n",
       "    }\n",
       "\n",
       "    .dataframe thead th {\n",
       "        text-align: right;\n",
       "    }\n",
       "</style>\n",
       "<table border=\"1\" class=\"dataframe\">\n",
       "  <thead>\n",
       "    <tr style=\"text-align: right;\">\n",
       "      <th></th>\n",
       "      <th>case_id</th>\n",
       "      <th>continent</th>\n",
       "      <th>education_of_employee</th>\n",
       "      <th>has_job_experience</th>\n",
       "      <th>requires_job_training</th>\n",
       "      <th>no_of_employees</th>\n",
       "      <th>yr_of_estab</th>\n",
       "      <th>region_of_employment</th>\n",
       "      <th>prevailing_wage</th>\n",
       "      <th>unit_of_wage</th>\n",
       "      <th>full_time_position</th>\n",
       "      <th>case_status</th>\n",
       "    </tr>\n",
       "  </thead>\n",
       "  <tbody>\n",
       "    <tr>\n",
       "      <th>0</th>\n",
       "      <td>EZYV01</td>\n",
       "      <td>Asia</td>\n",
       "      <td>High School</td>\n",
       "      <td>N</td>\n",
       "      <td>N</td>\n",
       "      <td>14513</td>\n",
       "      <td>2007</td>\n",
       "      <td>West</td>\n",
       "      <td>592.2029</td>\n",
       "      <td>Hour</td>\n",
       "      <td>Y</td>\n",
       "      <td>Denied</td>\n",
       "    </tr>\n",
       "    <tr>\n",
       "      <th>1</th>\n",
       "      <td>EZYV02</td>\n",
       "      <td>Asia</td>\n",
       "      <td>Master's</td>\n",
       "      <td>Y</td>\n",
       "      <td>N</td>\n",
       "      <td>2412</td>\n",
       "      <td>2002</td>\n",
       "      <td>Northeast</td>\n",
       "      <td>83425.6500</td>\n",
       "      <td>Year</td>\n",
       "      <td>Y</td>\n",
       "      <td>Certified</td>\n",
       "    </tr>\n",
       "    <tr>\n",
       "      <th>2</th>\n",
       "      <td>EZYV03</td>\n",
       "      <td>Asia</td>\n",
       "      <td>Bachelor's</td>\n",
       "      <td>N</td>\n",
       "      <td>Y</td>\n",
       "      <td>44444</td>\n",
       "      <td>2008</td>\n",
       "      <td>West</td>\n",
       "      <td>122996.8600</td>\n",
       "      <td>Year</td>\n",
       "      <td>Y</td>\n",
       "      <td>Denied</td>\n",
       "    </tr>\n",
       "    <tr>\n",
       "      <th>3</th>\n",
       "      <td>EZYV04</td>\n",
       "      <td>Asia</td>\n",
       "      <td>Bachelor's</td>\n",
       "      <td>N</td>\n",
       "      <td>N</td>\n",
       "      <td>98</td>\n",
       "      <td>1897</td>\n",
       "      <td>West</td>\n",
       "      <td>83434.0300</td>\n",
       "      <td>Year</td>\n",
       "      <td>Y</td>\n",
       "      <td>Denied</td>\n",
       "    </tr>\n",
       "    <tr>\n",
       "      <th>4</th>\n",
       "      <td>EZYV05</td>\n",
       "      <td>Africa</td>\n",
       "      <td>Master's</td>\n",
       "      <td>Y</td>\n",
       "      <td>N</td>\n",
       "      <td>1082</td>\n",
       "      <td>2005</td>\n",
       "      <td>South</td>\n",
       "      <td>149907.3900</td>\n",
       "      <td>Year</td>\n",
       "      <td>Y</td>\n",
       "      <td>Certified</td>\n",
       "    </tr>\n",
       "  </tbody>\n",
       "</table>\n",
       "</div>"
      ],
      "text/plain": [
       "  case_id continent education_of_employee has_job_experience  \\\n",
       "0  EZYV01      Asia           High School                  N   \n",
       "1  EZYV02      Asia              Master's                  Y   \n",
       "2  EZYV03      Asia            Bachelor's                  N   \n",
       "3  EZYV04      Asia            Bachelor's                  N   \n",
       "4  EZYV05    Africa              Master's                  Y   \n",
       "\n",
       "  requires_job_training  no_of_employees  yr_of_estab region_of_employment  \\\n",
       "0                     N            14513         2007                 West   \n",
       "1                     N             2412         2002            Northeast   \n",
       "2                     Y            44444         2008                 West   \n",
       "3                     N               98         1897                 West   \n",
       "4                     N             1082         2005                South   \n",
       "\n",
       "   prevailing_wage unit_of_wage full_time_position case_status  \n",
       "0         592.2029         Hour                  Y      Denied  \n",
       "1       83425.6500         Year                  Y   Certified  \n",
       "2      122996.8600         Year                  Y      Denied  \n",
       "3       83434.0300         Year                  Y      Denied  \n",
       "4      149907.3900         Year                  Y   Certified  "
      ]
     },
     "execution_count": 108,
     "metadata": {},
     "output_type": "execute_result"
    }
   ],
   "source": [
    "visa = pd.read_csv(\"Visadataset.csv\")\n",
    "visa.head()"
   ]
  },
  {
   "cell_type": "code",
   "execution_count": 109,
   "id": "f1cbae9c",
   "metadata": {},
   "outputs": [
    {
     "name": "stderr",
     "output_type": "stream",
     "text": [
      "C:\\Users\\hitesh wadhwani\\AppData\\Local\\Temp\\ipykernel_1092\\2980775665.py:1: FutureWarning: Dropping of nuisance columns in DataFrame reductions (with 'numeric_only=None') is deprecated; in a future version this will raise TypeError.  Select only valid columns before calling the reduction.\n",
      "  visa.skew()\n"
     ]
    },
    {
     "data": {
      "text/plain": [
       "no_of_employees    12.265260\n",
       "yr_of_estab        -2.037301\n",
       "prevailing_wage     0.755776\n",
       "dtype: float64"
      ]
     },
     "execution_count": 109,
     "metadata": {},
     "output_type": "execute_result"
    }
   ],
   "source": [
    "visa.skew()"
   ]
  },
  {
   "cell_type": "code",
   "execution_count": 111,
   "id": "27b94d0c",
   "metadata": {},
   "outputs": [],
   "source": [
    "# replacing values greter than 95 percentile with median in no_of_employees\n",
    "\n",
    "median = visa['no_of_employees'].quantile(0.50) # median of data \n",
    "x = visa['no_of_employees'].quantile(0.95) # 95 percentile of data\n",
    "visa['no_of_employees'] = np.where(visa['no_of_employees'] > x, median, visa['no_of_employees'])"
   ]
  },
  {
   "cell_type": "code",
   "execution_count": 112,
   "id": "cd99e3e6",
   "metadata": {},
   "outputs": [
    {
     "data": {
      "text/plain": [
       "1.769522021084754"
      ]
     },
     "execution_count": 112,
     "metadata": {},
     "output_type": "execute_result"
    }
   ],
   "source": [
    "visa.no_of_employees.skew()"
   ]
  },
  {
   "cell_type": "code",
   "execution_count": null,
   "id": "daaf6f1d",
   "metadata": {},
   "outputs": [],
   "source": []
  }
 ],
 "metadata": {
  "kernelspec": {
   "display_name": "Python 3 (ipykernel)",
   "language": "python",
   "name": "python3"
  },
  "language_info": {
   "codemirror_mode": {
    "name": "ipython",
    "version": 3
   },
   "file_extension": ".py",
   "mimetype": "text/x-python",
   "name": "python",
   "nbconvert_exporter": "python",
   "pygments_lexer": "ipython3",
   "version": "3.9.12"
  }
 },
 "nbformat": 4,
 "nbformat_minor": 5
}
